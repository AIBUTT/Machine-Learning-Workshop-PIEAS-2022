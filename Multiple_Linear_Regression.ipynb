{
 "cells": [
  {
   "cell_type": "markdown",
   "id": "fc42269a-f601-4ad2-a8fc-ab158361a66d",
   "metadata": {},
   "source": [
    "# DATA SCIENCE WORKSHOP WITH PYTHON, DPAM, PIEAS, JAN 11-13,2022\n",
    "#### AIBUTT@UALBERTA.CA\n",
    "#### Use scikit-learn to implement Multiple Regression\n",
    "#### Create a model, train it, test it and use the model"
   ]
  },
  {
   "cell_type": "code",
   "execution_count": null,
   "id": "c34931ff-6162-4c27-8edc-aaaf447e414f",
   "metadata": {},
   "outputs": [],
   "source": [
    "import matplotlib.pyplot as plt\n",
    "import pandas as pd\n",
    "import pylab as pl\n",
    "import numpy as np\n",
    "#%matplotlib inline"
   ]
  },
  {
   "cell_type": "code",
   "execution_count": null,
   "id": "b11005b0-5793-4773-a7a6-aebce8da823d",
   "metadata": {},
   "outputs": [],
   "source": [
    "# Open dataset in csv format using pandas\n",
    "df = pd.read_csv(\"FuelConsumptionCo2.csv\")"
   ]
  },
  {
   "cell_type": "code",
   "execution_count": null,
   "id": "31df45c2-7dbc-4742-a870-5b3e21c68f39",
   "metadata": {},
   "outputs": [],
   "source": [
    "# Take a look at the dataset\n",
    "df.head()"
   ]
  },
  {
   "cell_type": "code",
   "execution_count": null,
   "id": "897ff6dc-272d-44be-8aa0-2524934a5c05",
   "metadata": {},
   "outputs": [],
   "source": [
    "# Summarize the data\n",
    "df.describe()"
   ]
  },
  {
   "cell_type": "code",
   "execution_count": null,
   "id": "686781c5-e135-497d-9210-0d73c8d75af6",
   "metadata": {},
   "outputs": [],
   "source": [
    "# Let's work with subset of dataset\n",
    "cdf = df[['ENGINESIZE','CYLINDERS','FUELCONSUMPTION_CITY','FUELCONSUMPTION_HWY','FUELCONSUMPTION_COMB','CO2EMISSIONS']]\n",
    "cdf.head(9)"
   ]
  },
  {
   "cell_type": "code",
   "execution_count": null,
   "id": "b8f35ec4-e916-4bd5-975e-ff8a1523d3d9",
   "metadata": {},
   "outputs": [],
   "source": [
    "# Let's plot all the features against the emission to see how linear their relationship is!\n",
    "plt.scatter(cdf.ENGINESIZE, cdf.CO2EMISSIONS,  color='blue')\n",
    "plt.xlabel(\"Engine size\")\n",
    "plt.ylabel(\"Emission\")\n",
    "plt.show()"
   ]
  },
  {
   "cell_type": "code",
   "execution_count": null,
   "id": "466fdbd0-09f3-43d4-bcd4-4f1215680e30",
   "metadata": {},
   "outputs": [],
   "source": [
    "# TRAIN-TEST SPLIT SCHEME\n",
    "# Helps in better evaluation of Out-of-Sample Accuracy\n",
    "# Create a 80-20 mask to select random rows\n",
    "msk = np.random.rand(len(df)) < 0.8; # print(msk); print(~msk);\n",
    "train = cdf[msk]\n",
    "test = cdf[~msk]"
   ]
  },
  {
   "cell_type": "code",
   "execution_count": null,
   "id": "4f9c7148-5fd1-41ad-bb89-20a261361020",
   "metadata": {},
   "outputs": [],
   "source": [
    "# Let's visualize train-dataset\n",
    "plt.scatter(train.ENGINESIZE, train.CO2EMISSIONS,  color='blue')\n",
    "plt.xlabel(\"Engine size\")\n",
    "plt.ylabel(\"Emission\")\n",
    "plt.show()"
   ]
  },
  {
   "cell_type": "code",
   "execution_count": null,
   "id": "8ae96b89-5165-4480-89e4-5bf1d2d84caf",
   "metadata": {},
   "outputs": [],
   "source": [
    "# MULTIPLE REGRESSION MODEL: Minimize the Residual Sum of Squares using Linear Approximation\n",
    "from sklearn import linear_model\n",
    "regr = linear_model.LinearRegression()\n",
    "x = np.asanyarray(train[['ENGINESIZE','CYLINDERS','FUELCONSUMPTION_COMB']])\n",
    "y = np.asanyarray(train[['CO2EMISSIONS']])\n",
    "regr.fit (x, y)\n",
    "print('Intercept:',regr.intercept_)\n",
    "print ('Coefficients: ', regr.coef_)"
   ]
  },
  {
   "cell_type": "code",
   "execution_count": null,
   "id": "c776437c-d0bf-45b2-905c-d679dde26526",
   "metadata": {},
   "outputs": [],
   "source": [
    "# PREDICTION TIME\n",
    "y_hat = regr.predict(test[['ENGINESIZE','CYLINDERS','FUELCONSUMPTION_COMB']])\n",
    "x = np.asanyarray(test[['ENGINESIZE','CYLINDERS','FUELCONSUMPTION_COMB']])\n",
    "y = np.asanyarray(test[['CO2EMISSIONS']])\n",
    "print('Residual sum of squares: %.2f' % np.mean((y_hat - y) ** 2))"
   ]
  },
  {
   "cell_type": "code",
   "execution_count": null,
   "id": "657b2f47-cb7e-4013-8b2e-61289b02c9fb",
   "metadata": {},
   "outputs": [],
   "source": [
    "# EXPLAINED VARIANCE SCORE: 1 is perfect prediction\n",
    "print('Variance score: %.2f' % regr.score(x, y))"
   ]
  },
  {
   "cell_type": "code",
   "execution_count": null,
   "id": "3144db82-7252-4186-ae14-461e8be5eca3",
   "metadata": {},
   "outputs": [],
   "source": [
    "from sklearn.metrics import r2_score\n",
    "print(\"R2-Score: %.2f\" % r2_score(y , y_hat))"
   ]
  },
  {
   "cell_type": "code",
   "execution_count": null,
   "id": "0b98675d-7045-481c-a467-12a71af19bbe",
   "metadata": {},
   "outputs": [],
   "source": [
    "# Let's use FUELCONSUMPTION_CITY and FUELCONSUMPTION_HWY instead of FUELCONSUMPTION_COMB\n",
    "# Does it result in better accuracy?\n",
    "\n",
    "# write your code here\n",
    "regr = linear_model.LinearRegression()\n",
    "x = np.asanyarray(train[['ENGINESIZE','CYLINDERS','FUELCONSUMPTION_CITY','FUELCONSUMPTION_HWY']])\n",
    "y = np.asanyarray(train[['CO2EMISSIONS']])\n",
    "regr.fit (x, y)\n",
    "print ('Coefficients: ', regr.coef_)\n",
    "y_= regr.predict(test[['ENGINESIZE','CYLINDERS','FUELCONSUMPTION_CITY','FUELCONSUMPTION_HWY']])\n",
    "x = np.asanyarray(test[['ENGINESIZE','CYLINDERS','FUELCONSUMPTION_CITY','FUELCONSUMPTION_HWY']])\n",
    "y = np.asanyarray(test[['CO2EMISSIONS']])\n",
    "print('Residual sum of squares: %.2f' % np.mean((y_ - y) ** 2))\n",
    "print('Variance score: %.2f' % regr.score(x, y))"
   ]
  },
  {
   "cell_type": "code",
   "execution_count": null,
   "id": "2f2d9046-f121-4c2f-9e19-0be7412d0155",
   "metadata": {},
   "outputs": [],
   "source": []
  }
 ],
 "metadata": {
  "kernelspec": {
   "display_name": "Python 3 (ipykernel)",
   "language": "python",
   "name": "python3"
  },
  "language_info": {
   "codemirror_mode": {
    "name": "ipython",
    "version": 3
   },
   "file_extension": ".py",
   "mimetype": "text/x-python",
   "name": "python",
   "nbconvert_exporter": "python",
   "pygments_lexer": "ipython3",
   "version": "3.9.6"
  }
 },
 "nbformat": 4,
 "nbformat_minor": 5
}
