{
 "cells": [
  {
   "cell_type": "markdown",
   "id": "650e21ef-e755-4efc-99f8-9416132dbee1",
   "metadata": {},
   "source": [
    "# DATA SCIENCE WORKSHOP WITH PYTHON, DPAM, PIEAS, JAN 11-13,2022\n",
    "#### AIBUTT@UALBERTA.CA\n",
    "#### NON LINEAR REGRESSION ANALYSIS"
   ]
  },
  {
   "cell_type": "code",
   "execution_count": null,
   "id": "2a56fdda-0145-4a90-b6ef-511fe84b7b3a",
   "metadata": {},
   "outputs": [],
   "source": [
    "import numpy as np\n",
    "import pandas as pd\n",
    "import matplotlib.pyplot as plt\n",
    "#%matplotlib inline"
   ]
  },
  {
   "cell_type": "code",
   "execution_count": null,
   "id": "7c701874-3dd6-42af-965c-7be641c5d933",
   "metadata": {},
   "outputs": [],
   "source": [
    "# Let's Create NOISE in Linear Relationship\n",
    "x = np.arange(-5.0, 5.0, 0.1)\n",
    "# You can adjust the slope and intercept to verify the changes in the graph\n",
    "y = 2*(x) + 3\n",
    "y_noise = 2 * np.random.normal(size=x.size)\n",
    "ydata = y + y_noise\n",
    "# plt.figure(figsize=(8,6))\n",
    "plt.plot(x, ydata,  'bo')\n",
    "plt.plot(x,y, 'r')\n",
    "plt.ylabel('Dependent Variable')\n",
    "plt.xlabel('Independent Variable')\n",
    "plt.show()"
   ]
  },
  {
   "cell_type": "code",
   "execution_count": null,
   "id": "adc72112-1bc9-4eff-9248-887caa32af44",
   "metadata": {},
   "outputs": [],
   "source": [
    "# Let's Create NOISE in Cubic Relationship\n",
    "x = np.arange(-5.0, 5.0, 0.1)\n",
    "# You can adjust the slope and intercept to verify the changes in the graph\n",
    "y = 1*(x**3) + 1*(x**2) + 1*x + 3\n",
    "y_noise = 20 * np.random.normal(size=x.size)\n",
    "ydata = y + y_noise\n",
    "plt.plot(x, ydata,  'bo')\n",
    "plt.plot(x,y, 'r')\n",
    "plt.ylabel('Dependent Variable')\n",
    "plt.xlabel('Independent Variable')\n",
    "plt.show()"
   ]
  },
  {
   "cell_type": "code",
   "execution_count": null,
   "id": "de3e7fe4-c710-4a82-b061-c69b42229fc5",
   "metadata": {},
   "outputs": [],
   "source": [
    "# Let's Create NOISE in Quadratic Relationship\n",
    "x = np.arange(-5.0, 5.0, 0.1)\n",
    "# You can adjust the slope and intercept to verify the changes in the graph\n",
    "y = np.power(x,2)\n",
    "y_noise = 2 * np.random.normal(size=x.size)\n",
    "ydata = y + y_noise\n",
    "plt.plot(x, ydata,  'bo')\n",
    "plt.plot(x,y, 'r') \n",
    "plt.ylabel('Dependent Variable')\n",
    "plt.xlabel('Independent Variable')\n",
    "plt.show()"
   ]
  },
  {
   "cell_type": "code",
   "execution_count": null,
   "id": "d0e4b15a-bfd0-44d2-aaa1-ec4bcfb9eb02",
   "metadata": {},
   "outputs": [],
   "source": [
    "# Exponential Function\n",
    "# PLEASE CREATE NOISE\n",
    "X = np.arange(-5.0, 5.0, 0.1)\n",
    "# You can adjust the slope and intercept to verify the changes in the graph\n",
    "Y= np.exp(X)\n",
    "plt.plot(X,Y)\n",
    "plt.ylabel('Dependent Variable')\n",
    "plt.xlabel('Independent Variable')\n",
    "plt.show()"
   ]
  },
  {
   "cell_type": "code",
   "execution_count": null,
   "id": "97bd2a83-add4-40bb-8eaa-02ce78f2d535",
   "metadata": {},
   "outputs": [],
   "source": [
    "# Logrithmic\n",
    "# PLEASE CREATE NOISE\n",
    "X = np.arange(-5.0, 5.0, 0.1)\n",
    "Y = np.log(X)\n",
    "plt.plot(X,Y)\n",
    "plt.ylabel('Dependent Variable')\n",
    "plt.xlabel('Independent Variable')\n",
    "plt.show()"
   ]
  },
  {
   "cell_type": "code",
   "execution_count": null,
   "id": "814432fc-8d2f-4dc1-bc17-f3b6dcb6a9ae",
   "metadata": {},
   "outputs": [],
   "source": [
    "# Sigmoidal/Logestic Function\n",
    "# PLEASE CREATE NOISE\n",
    "X = np.arange(-5.0, 5.0, 0.1)\n",
    "Y = 1-4/(1+np.power(3, X-2))\n",
    "plt.plot(X,Y) \n",
    "plt.ylabel('Dependent Variable')\n",
    "plt.xlabel('Independent Variable')\n",
    "plt.show()"
   ]
  },
  {
   "cell_type": "code",
   "execution_count": null,
   "id": "ac44324d-9b0c-4733-8788-3e8c962cd3f1",
   "metadata": {},
   "outputs": [],
   "source": [
    "# LET'S EXPLORE CHINA'S GDP FROM 1960 TO 2010\n",
    "\n",
    "df = pd.read_csv(\"china_gdp.csv\")\n",
    "df.head()"
   ]
  },
  {
   "cell_type": "code",
   "execution_count": null,
   "id": "1f779d42-6e41-4d6f-8c86-f48f26905d09",
   "metadata": {},
   "outputs": [],
   "source": [
    "# Let's plot the Dataset\n",
    "plt.figure(figsize=(8,5))\n",
    "x_data, y_data = (df[\"Year\"].values, df[\"Value\"].values)\n",
    "plt.plot(x_data, y_data, 'ro')\n",
    "plt.ylabel('GDP')\n",
    "plt.xlabel('Year')\n",
    "plt.show()"
   ]
  },
  {
   "cell_type": "code",
   "execution_count": null,
   "id": "ec35806f-5b9f-48cd-a44a-cca5e328b277",
   "metadata": {},
   "outputs": [],
   "source": [
    "# WHAT YOU THINK? EXPONENTIAL OR LOGESTIC?\n",
    "# HOW WOULD YOU DECIDE?\n",
    "\n",
    "# Let's build a Model\n",
    "def sigmoid(x, Beta_1, Beta_2):\n",
    "     y = 1 / (1 + np.exp(-Beta_1*(x-Beta_2)))\n",
    "     return y\n",
    "\n",
    "# Initialize\n",
    "beta_1 = 0.10\n",
    "beta_2 = 1990.0\n",
    "# Logistic Function\n",
    "Y_pred = sigmoid(x_data, beta_1 , beta_2)\n",
    "# Plot initial prediction against datapoints\n",
    "plt.plot(x_data, Y_pred*15000000000000.)\n",
    "plt.plot(x_data, y_data, 'ro')"
   ]
  },
  {
   "cell_type": "code",
   "execution_count": null,
   "id": "6bd87646-a196-4a69-a0e2-f29f6d5c723c",
   "metadata": {},
   "outputs": [],
   "source": [
    "# Lets normalize our data\n",
    "xdata =x_data/max(x_data)\n",
    "ydata =y_data/max(y_data)"
   ]
  },
  {
   "cell_type": "code",
   "execution_count": null,
   "id": "369fcf2e-837e-4108-8605-7c7f2e597288",
   "metadata": {},
   "outputs": [],
   "source": [
    "# How we find the best parameters for our fit line?\n",
    "# We can use curve_fit which uses non-linear least squares to fit our sigmoid function, to data\n",
    "# Optimize values for the parameters so that the sum of the squared residuals of sigmoid(xdata, *popt) - ydata is minimized\n",
    "from scipy.optimize import curve_fit\n",
    "popt, pcov = curve_fit(sigmoid, xdata, ydata)\n",
    "#print the final parameters\n",
    "print(\" beta_1 = %f, beta_2 = %f\" % (popt[0], popt[1]))"
   ]
  },
  {
   "cell_type": "code",
   "execution_count": null,
   "id": "006a5728-847a-4a56-b00e-76d1778a8f16",
   "metadata": {},
   "outputs": [],
   "source": [
    "# Plot resulting Regression Model\n",
    "x = np.linspace(1960, 2015, 55)\n",
    "x = x/max(x)\n",
    "plt.figure(figsize=(8,5))\n",
    "y = sigmoid(x, *popt)\n",
    "plt.plot(xdata, ydata, 'ro', label='data')\n",
    "plt.plot(x,y, linewidth=3.0, label='fit')\n",
    "plt.legend(loc='best')\n",
    "plt.ylabel('GDP')\n",
    "plt.xlabel('Year')\n",
    "plt.show()"
   ]
  },
  {
   "cell_type": "code",
   "execution_count": null,
   "id": "e314236e-a6bf-479c-9d77-7281f7d791dc",
   "metadata": {},
   "outputs": [],
   "source": [
    "# Let's calculate what is the accuracy of our model?\n",
    "msk = np.random.rand(len(df)) < 0.8\n",
    "train_x = xdata[msk]\n",
    "test_x = xdata[~msk]\n",
    "train_y = ydata[msk]\n",
    "test_y = ydata[~msk]"
   ]
  },
  {
   "cell_type": "code",
   "execution_count": null,
   "id": "eb6c0c0d-ecf3-4c4b-a1b1-abb61f54750c",
   "metadata": {},
   "outputs": [],
   "source": [
    "# build the model using train set\n",
    "popt, pcov = curve_fit(sigmoid, train_x, train_y)\n",
    "\n",
    "# predict using test set\n",
    "y_hat = sigmoid(test_x, *popt)"
   ]
  },
  {
   "cell_type": "code",
   "execution_count": null,
   "id": "b41d3b48-da90-4b5c-83b5-7b070348228d",
   "metadata": {},
   "outputs": [],
   "source": [
    "# evaluation\n",
    "print(\"Mean absolute error: %.2f\" % np.mean(np.absolute(y_hat - test_y)))\n",
    "print(\"Residual sum of squares (MSE): %.2f\" % np.mean((y_hat - test_y) ** 2))\n",
    "from sklearn.metrics import r2_score\n",
    "print(\"R2-score: %.2f\" % r2_score(test_y,y_hat) )"
   ]
  },
  {
   "cell_type": "code",
   "execution_count": null,
   "id": "2cf96015-b733-4912-b424-e68e90c1e678",
   "metadata": {},
   "outputs": [],
   "source": []
  }
 ],
 "metadata": {
  "kernelspec": {
   "display_name": "Python 3 (ipykernel)",
   "language": "python",
   "name": "python3"
  },
  "language_info": {
   "codemirror_mode": {
    "name": "ipython",
    "version": 3
   },
   "file_extension": ".py",
   "mimetype": "text/x-python",
   "name": "python",
   "nbconvert_exporter": "python",
   "pygments_lexer": "ipython3",
   "version": "3.9.6"
  }
 },
 "nbformat": 4,
 "nbformat_minor": 5
}
