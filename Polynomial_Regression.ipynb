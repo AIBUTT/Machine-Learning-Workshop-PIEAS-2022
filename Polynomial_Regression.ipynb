{
 "cells": [
  {
   "cell_type": "markdown",
   "id": "3c7cc788-5459-4af9-b224-ba154e27e278",
   "metadata": {},
   "source": [
    "# DATA SCIENCE WORKSHOP WITH PYTHON, DPAM, PIEAS, JAN 11-13,2022\n",
    "#### AIBUTT@UALBERTA.CA\n",
    "#### Use scikit-learn to implement Polynomial Regression\n",
    "#### Create a model, train it, test it and use the model"
   ]
  },
  {
   "cell_type": "code",
   "execution_count": null,
   "id": "b21d3da5-ed3a-4768-aa62-f6e831d3f938",
   "metadata": {},
   "outputs": [],
   "source": [
    "import matplotlib.pyplot as plt\n",
    "import pandas as pd\n",
    "import pylab as pl\n",
    "import numpy as np\n",
    "#%matplotlib inline"
   ]
  },
  {
   "cell_type": "code",
   "execution_count": null,
   "id": "8ca5b13e-d5d9-448c-9037-8545f720e0ca",
   "metadata": {},
   "outputs": [],
   "source": [
    "# Open dataset in csv format using pandas\n",
    "df = pd.read_csv(\"FuelConsumptionCo2.csv\")"
   ]
  },
  {
   "cell_type": "code",
   "execution_count": null,
   "id": "d4d4bf03-3afb-4781-8f80-a27070684db5",
   "metadata": {},
   "outputs": [],
   "source": [
    "# Take a look at the dataset\n",
    "df.head()"
   ]
  },
  {
   "cell_type": "code",
   "execution_count": null,
   "id": "72c9b55c-bfed-46bd-b232-9c687d356a2b",
   "metadata": {},
   "outputs": [],
   "source": [
    "# Summarize the data\n",
    "df.describe()"
   ]
  },
  {
   "cell_type": "code",
   "execution_count": null,
   "id": "02b5e7ca-066b-4a68-9ddb-3df8ccc864d5",
   "metadata": {},
   "outputs": [],
   "source": [
    "# Let's work with subset of dataset\n",
    "cdf = df[['ENGINESIZE','CYLINDERS','FUELCONSUMPTION_CITY','FUELCONSUMPTION_HWY','FUELCONSUMPTION_COMB','CO2EMISSIONS']]\n",
    "cdf.head(9)"
   ]
  },
  {
   "cell_type": "code",
   "execution_count": null,
   "id": "7b4f5fd7-8a81-43c9-af9e-5a9822688424",
   "metadata": {},
   "outputs": [],
   "source": [
    "# Let's plot all the features against the emission to see how linear their relationship is!\n",
    "plt.scatter(cdf.ENGINESIZE, cdf.CO2EMISSIONS,  color='blue')\n",
    "plt.xlabel(\"Engine size\")\n",
    "plt.ylabel(\"Emission\")\n",
    "plt.show()"
   ]
  },
  {
   "cell_type": "code",
   "execution_count": null,
   "id": "df4afe7b-38f7-48a2-a8b3-4e66814a7e6c",
   "metadata": {},
   "outputs": [],
   "source": [
    "# TRAIN-TEST SPLIT SCHEME\n",
    "# Helps in better evaluation of Out-of-Sample Accuracy\n",
    "# Create a 80-20 mask to select random rows\n",
    "msk = np.random.rand(len(df)) < 0.8; # print(msk); print(~msk);\n",
    "train = cdf[msk]\n",
    "test = cdf[~msk]"
   ]
  },
  {
   "cell_type": "code",
   "execution_count": null,
   "id": "d6b56dff-d196-4cba-9b32-db45d6b3cfd5",
   "metadata": {},
   "outputs": [],
   "source": [
    "# PolynomialFeatures() function in Scikit-learn library, drives a new feature sets from the original feature set\n",
    "# A matrix will be generated consisting of all polynomial combinations of the features with degree less than or equal to the specified degree\n",
    "# The original feature set has only one feature, ENGINESIZE.\n",
    "# When we select the degree of the polynomial to be 2, it generates 3 features, degree=0, degree=1 and degree=2:\n",
    "from sklearn.preprocessing import PolynomialFeatures\n",
    "from sklearn import linear_model\n",
    "train_x = np.asanyarray(train[['ENGINESIZE']])\n",
    "train_y = np.asanyarray(train[['CO2EMISSIONS']])\n",
    "\n",
    "test_x = np.asanyarray(test[['ENGINESIZE']])\n",
    "test_y = np.asanyarray(test[['CO2EMISSIONS']])"
   ]
  },
  {
   "cell_type": "code",
   "execution_count": null,
   "id": "b9145307-01fc-4a21-9404-0f749860f188",
   "metadata": {},
   "outputs": [],
   "source": [
    "poly = PolynomialFeatures(degree=2)\n",
    "train_x_poly = poly.fit_transform(train_x)\n",
    "train_x_poly"
   ]
  },
  {
   "cell_type": "code",
   "execution_count": null,
   "id": "8cc65d89-21bd-465e-9ba4-ab3e0bf49739",
   "metadata": {},
   "outputs": [],
   "source": [
    "# Now we use Linear Regression Model\n",
    "clf = linear_model.LinearRegression()\n",
    "train_y_ = clf.fit(train_x_poly, train_y)\n",
    "# The coefficients\n",
    "print ('Coefficients: ', clf.coef_)\n",
    "print ('Intercept: ',clf.intercept_)"
   ]
  },
  {
   "cell_type": "code",
   "execution_count": null,
   "id": "99c4558f-fd39-4d6d-8f28-e7531a57b36f",
   "metadata": {},
   "outputs": [],
   "source": [
    "# Plot the Polynomial\n",
    "plt.scatter(train.ENGINESIZE, train.CO2EMISSIONS,  color='blue')\n",
    "XX = np.arange(0.0, 10.0, 0.1)\n",
    "yy = clf.intercept_[0]+ clf.coef_[0][1]*XX+ clf.coef_[0][2]*np.power(XX, 2)\n",
    "plt.plot(XX, yy, '-r' )\n",
    "plt.xlabel(\"Engine size\")\n",
    "plt.ylabel(\"Emission\")"
   ]
  },
  {
   "cell_type": "code",
   "execution_count": null,
   "id": "6f87f024-0dd9-4420-8aa1-65d1ba041388",
   "metadata": {},
   "outputs": [],
   "source": [
    "# Evaluation\n",
    "from sklearn.metrics import r2_score\n",
    "\n",
    "test_x_poly = poly.transform(test_x)\n",
    "test_y_ = clf.predict(test_x_poly)\n",
    "\n",
    "print(\"Mean absolute error: %.2f\" % np.mean(np.absolute(test_y_ - test_y)))\n",
    "print(\"Residual sum of squares (MSE): %.2f\" % np.mean((test_y_ - test_y) ** 2))\n",
    "print(\"R2-score: %.2f\" % r2_score(test_y,test_y_ ) )"
   ]
  },
  {
   "cell_type": "code",
   "execution_count": null,
   "id": "c2c14744-a16e-4b04-a1bd-f702ac26232f",
   "metadata": {},
   "outputs": [],
   "source": [
    "# Let's use a polynomial of degree 3\n",
    "poly3 = PolynomialFeatures(degree=3)\n",
    "train_x_poly3 = poly3.fit_transform(train_x)\n",
    "clf3 = linear_model.LinearRegression()\n",
    "train_y3_ = clf3.fit(train_x_poly3, train_y)"
   ]
  },
  {
   "cell_type": "code",
   "execution_count": null,
   "id": "3361e6ba-ca00-440e-a7d2-628a9f888956",
   "metadata": {},
   "outputs": [],
   "source": [
    "# The coefficients\n",
    "print ('Coefficients: ', clf3.coef_)\n",
    "print ('Intercept: ',clf3.intercept_)\n",
    "plt.scatter(train.ENGINESIZE, train.CO2EMISSIONS,  color='blue')\n",
    "XX = np.arange(0.0, 10.0, 0.1)\n",
    "yy = clf3.intercept_[0]+ clf3.coef_[0][1]*XX + clf3.coef_[0][2]*np.power(XX, 2) + clf3.coef_[0][3]*np.power(XX, 3)\n",
    "plt.plot(XX, yy, '-r' )\n",
    "plt.xlabel(\"Engine size\")\n",
    "plt.ylabel(\"Emission\")\n",
    "test_x_poly3 = poly3.transform(test_x)\n",
    "test_y3_ = clf3.predict(test_x_poly3)\n",
    "print(\"Mean absolute error: %.2f\" % np.mean(np.absolute(test_y3_ - test_y)))\n",
    "print(\"Residual sum of squares (MSE): %.2f\" % np.mean((test_y3_ - test_y) ** 2))\n",
    "print(\"R2-score: %.2f\" % r2_score(test_y,test_y3_ ) )"
   ]
  }
 ],
 "metadata": {
  "kernelspec": {
   "display_name": "Python 3 (ipykernel)",
   "language": "python",
   "name": "python3"
  },
  "language_info": {
   "codemirror_mode": {
    "name": "ipython",
    "version": 3
   },
   "file_extension": ".py",
   "mimetype": "text/x-python",
   "name": "python",
   "nbconvert_exporter": "python",
   "pygments_lexer": "ipython3",
   "version": "3.9.6"
  }
 },
 "nbformat": 4,
 "nbformat_minor": 5
}
