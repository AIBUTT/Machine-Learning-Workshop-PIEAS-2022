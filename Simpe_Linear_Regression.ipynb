{
 "cells": [
  {
   "cell_type": "markdown",
   "id": "53277917-4c3a-4989-8dbe-e472037bca48",
   "metadata": {},
   "source": [
    "# DATA SCIENCE WORKSHOP WITH PYTHON, DPAM, PIEAS, JAN 11-13,2022\n",
    "#### AIBUTT@UALBERTA.CA\n",
    "#### We use scikit-learn to implement simple Linear Regression\n",
    "#### We create a model, train it, test it and use the model"
   ]
  },
  {
   "cell_type": "code",
   "execution_count": null,
   "id": "f7fce245-d4c0-4c30-a76f-69dcbc276322",
   "metadata": {},
   "outputs": [],
   "source": [
    "import matplotlib.pyplot as plt\n",
    "import pandas as pd\n",
    "import pylab as pl\n",
    "import numpy as np\n",
    "#%matplotlib inline"
   ]
  },
  {
   "cell_type": "code",
   "execution_count": null,
   "id": "59b4e8ca-0664-440f-9d6e-6aa8d44d01b2",
   "metadata": {},
   "outputs": [],
   "source": [
    "# Open dataset in csv format using pandas\n",
    "df = pd.read_csv(\"FuelConsumptionCo2.csv\")"
   ]
  },
  {
   "cell_type": "code",
   "execution_count": null,
   "id": "68d11b83-6255-463b-9e86-109bc7371bca",
   "metadata": {},
   "outputs": [],
   "source": [
    "# Take a look at the dataset\n",
    "df.head()"
   ]
  },
  {
   "cell_type": "code",
   "execution_count": null,
   "id": "38688573-fa3b-46c5-87f2-14defc2d1482",
   "metadata": {},
   "outputs": [],
   "source": [
    "# Summarize the data\n",
    "df.describe()"
   ]
  },
  {
   "cell_type": "code",
   "execution_count": null,
   "id": "9aa51f33-48f6-4ff2-9df8-0d979a4eacf7",
   "metadata": {},
   "outputs": [],
   "source": [
    "# Let's work with subset of dataset\n",
    "cdf = df[['ENGINESIZE','CYLINDERS','FUELCONSUMPTION_COMB','CO2EMISSIONS']]\n",
    "cdf.head(9)"
   ]
  },
  {
   "cell_type": "code",
   "execution_count": null,
   "id": "fcbaddce-b7a9-46f8-91eb-fac4857dd8f2",
   "metadata": {},
   "outputs": [],
   "source": [
    "# Let's visualize the dataset\n",
    "viz = cdf[['CYLINDERS','ENGINESIZE','CO2EMISSIONS','FUELCONSUMPTION_COMB']]\n",
    "viz.hist()\n",
    "plt.show()"
   ]
  },
  {
   "cell_type": "code",
   "execution_count": null,
   "id": "2893be5f-c49f-4c94-982b-65263ef9faff",
   "metadata": {},
   "outputs": [],
   "source": [
    "# Let's plot all three features against the emission to see how linear their relationship is!\n",
    "plt.scatter(cdf.FUELCONSUMPTION_COMB, cdf.CO2EMISSIONS,  color='blue')\n",
    "plt.xlabel(\"FUELCONSUMPTION_COMB\")\n",
    "plt.ylabel(\"Emission\")\n",
    "plt.show()"
   ]
  },
  {
   "cell_type": "code",
   "execution_count": null,
   "id": "e39df476-3909-4147-8b4e-19933cdc8db9",
   "metadata": {},
   "outputs": [],
   "source": [
    "# Let's visualize train-dataset\n",
    "plt.scatter(cdf.ENGINESIZE, cdf.CO2EMISSIONS,  color='blue')\n",
    "plt.xlabel(\"Engine size\")\n",
    "plt.ylabel(\"Emission\")\n",
    "plt.show()"
   ]
  },
  {
   "cell_type": "code",
   "execution_count": null,
   "id": "f29edb2a-2ebb-48c5-b116-41f982e4e546",
   "metadata": {},
   "outputs": [],
   "source": [
    "# TRAIN-TEST SPLIT SCHEME\n",
    "# Helps in better evaluation of Out-of-Sample Accuracy\n",
    "# Create a 80-20 mask to select random rows\n",
    "msk = np.random.rand(len(df)) < 0.8; # print(msk); print(~msk);\n",
    "train = cdf[msk]\n",
    "test = cdf[~msk]"
   ]
  },
  {
   "cell_type": "code",
   "execution_count": null,
   "id": "d7e84f8a-c403-4356-a1de-b26d7a3963ee",
   "metadata": {},
   "outputs": [],
   "source": [
    "# SIMPLE REGRESSION MODEL: Minimize the Residual Sum of Squares using Linear Approximation\n",
    "from sklearn import linear_model\n",
    "regr = linear_model.LinearRegression()\n",
    "train_x = np.asanyarray(train[['ENGINESIZE']])\n",
    "train_y = np.asanyarray(train[['CO2EMISSIONS']])\n",
    "regr.fit(train_x, train_y)\n",
    "print(\"COEFFICIENT = %10f AND INTERCEPT = %10f\" %(regr.coef_, regr.intercept_))"
   ]
  },
  {
   "cell_type": "code",
   "execution_count": null,
   "id": "a4c06ee7-707a-49df-91f8-ba5fa998544b",
   "metadata": {},
   "outputs": [],
   "source": [
    "# Let's plot Fit-Line over data\n",
    "plt.scatter(train.ENGINESIZE, train.CO2EMISSIONS,  color='blue')\n",
    "plt.plot(train_x, regr.coef_*train_x + regr.intercept_, '-r')\n",
    "plt.xlabel(\"Engine size\")\n",
    "plt.ylabel(\"Emission\")"
   ]
  },
  {
   "cell_type": "code",
   "execution_count": null,
   "id": "1817cdf3-9d6d-4f6a-a753-9ed5820f4b9d",
   "metadata": {},
   "outputs": [],
   "source": [
    "# DIFFERENT MODEL EVALUATION METRICS\n",
    "# Mean Absolute Error\n",
    "# Mean Squared Error\n",
    "# Root Mean Squared Error\n",
    "# R-Squared (not an error but a popular metric to measure the performance of a regression model)\n",
    "\n",
    "test_x = np.asanyarray(test[['ENGINESIZE']])\n",
    "test_y = np.asanyarray(test[['CO2EMISSIONS']])\n",
    "test_y_ = regr.predict(test_x)\n",
    "\n",
    "print(\"Mean Absolute Error: %.2f\" % np.mean(np.absolute(test_y_ - test_y)))\n",
    "print(\"Residual Sum of Squares (MSE): %.2f\" % np.mean((test_y_ - test_y) ** 2))"
   ]
  },
  {
   "cell_type": "code",
   "execution_count": null,
   "id": "42896a83-13a0-4707-96e5-81aca161c35f",
   "metadata": {},
   "outputs": [],
   "source": [
    "from sklearn.metrics import r2_score\n",
    "print(\"R2-Score: %.2f\" % r2_score(test_y , test_y_) )"
   ]
  },
  {
   "cell_type": "code",
   "execution_count": null,
   "id": "515942b3-6b3c-474a-b087-df973a0fe184",
   "metadata": {},
   "outputs": [],
   "source": [
    "# DRILL THE WHOLE EXERCISE WITH FUELCONSUMPTION_COMB\n",
    "train_x = train[[\"FUELCONSUMPTION_COMB\"]]\n",
    "test_x = test[[\"FUELCONSUMPTION_COMB\"]]\n",
    "\n",
    "regr = linear_model.LinearRegression()\n",
    "regr.fit(train_x, train_y)\n",
    "\n",
    "predictions = regr.predict(test_x)\n",
    "\n",
    "print(\"Mean Absolute Error: %.2f\" % np.mean(np.absolute(predictions - test_y)))\n",
    "print(\"Residual Sum of Squares (MSE): %.2f\" % np.mean((predictions - test_y) ** 2))\n",
    "print(\"R2-Score: %.2f\" % r2_score(test_y , predictions))"
   ]
  },
  {
   "cell_type": "code",
   "execution_count": null,
   "id": "32b8b2d8-657a-45e9-b634-24a09e94e7be",
   "metadata": {},
   "outputs": [],
   "source": []
  }
 ],
 "metadata": {
  "kernelspec": {
   "display_name": "Python 3 (ipykernel)",
   "language": "python",
   "name": "python3"
  },
  "language_info": {
   "codemirror_mode": {
    "name": "ipython",
    "version": 3
   },
   "file_extension": ".py",
   "mimetype": "text/x-python",
   "name": "python",
   "nbconvert_exporter": "python",
   "pygments_lexer": "ipython3",
   "version": "3.9.6"
  }
 },
 "nbformat": 4,
 "nbformat_minor": 5
}
